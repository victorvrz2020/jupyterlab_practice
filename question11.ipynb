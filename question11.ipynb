{
 "cells": [
  {
   "cell_type": "markdown",
   "id": "fba85f08-ae70-45c9-916a-f571dfc7568a",
   "metadata": {},
   "source": [
    "# Victor Vera\n",
    "Notebook for assignment 7"
   ]
  },
  {
   "cell_type": "code",
   "execution_count": 1,
   "id": "0762de63-ef27-43ab-ae13-05ce00418d9b",
   "metadata": {},
   "outputs": [
    {
     "name": "stdout",
     "output_type": "stream",
     "text": [
      "5.0\n"
     ]
    }
   ],
   "source": [
    "def compute_mean(array):\n",
    "    outcome = sum(array)/len(array)\n",
    "    print(outcome)\n",
    "\n",
    "compute_mean([2, 4, 6, 8])"
   ]
  },
  {
   "cell_type": "markdown",
   "id": "118483a2-c45f-4abf-a16a-9fdcbe00d5ab",
   "metadata": {},
   "source": [
    "The code above calculates the mean of any array of numbers by adding the numbers of the array and dividing their total by the length of the array.\n",
    "$$\n",
    "\\begin{eqnarray*}\n",
    "\\bar{x} = \\frac{x_1 + x_2 + \\ldots + x_n}{n} = \\frac{1}{n} \\biggl( \\sum_{i=1}^n x_i \\biggr)\n",
    "\\end{eqnarray*}\n",
    "$$"
   ]
  }
 ],
 "metadata": {
  "kernelspec": {
   "display_name": "Python [conda env:assign07_env]",
   "language": "python",
   "name": "conda-env-assign07_env-py"
  },
  "language_info": {
   "codemirror_mode": {
    "name": "ipython",
    "version": 3
   },
   "file_extension": ".py",
   "mimetype": "text/x-python",
   "name": "python",
   "nbconvert_exporter": "python",
   "pygments_lexer": "ipython3",
   "version": "3.13.2"
  }
 },
 "nbformat": 4,
 "nbformat_minor": 5
}
